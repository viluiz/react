{
 "cells": [
  {
   "cell_type": "code",
   "execution_count": 1,
   "metadata": {
    "scrolled": true
   },
   "outputs": [
    {
     "name": "stdout",
     "output_type": "stream",
     "text": [
      "Once deleted, variables cannot be recovered. Proceed (y/[n])? y\n"
     ]
    }
   ],
   "source": [
    "%reset"
   ]
  },
  {
   "cell_type": "code",
   "execution_count": 2,
   "metadata": {},
   "outputs": [],
   "source": [
    "# Python ≥3.5 is required\n",
    "import sys\n",
    "assert sys.version_info >= (3, 5)\n",
    "\n",
    "# Scikit-Learn ≥1.0.2 is required\n",
    "import sklearn\n",
    "assert sklearn.__version__ >= \"1.0.2\"\n",
    "\n",
    "# Common imports\n",
    "import numpy as np\n",
    "import os\n",
    "import pandas as pd\n",
    "import time\n",
    "\n",
    "# To plot pretty figures\n",
    "%matplotlib inline\n",
    "import matplotlib as mpl\n",
    "import matplotlib.pyplot as plt\n",
    "mpl.rcParams.update({'font.size': 20})\n",
    "mpl.rc('xtick', labelsize=18) \n",
    "mpl.rc('ytick', labelsize=18) \n",
    "mpl.rc('axes', labelsize=22)\n"
   ]
  },
  {
   "cell_type": "markdown",
   "metadata": {},
   "source": [
    "# Load and process data"
   ]
  },
  {
   "cell_type": "code",
   "execution_count": 3,
   "metadata": {},
   "outputs": [
    {
     "name": "stdout",
     "output_type": "stream",
     "text": [
      "(80000, 15)\n",
      "(20000, 15)\n"
     ]
    }
   ],
   "source": [
    "# read data from csv file\n",
    "trainset = pd.read_csv('../datasets/dataset_MonteCarlo_100.000/trainset.csv')\n",
    "testset = pd.read_csv('../datasets/dataset_MonteCarlo_100.000/testset.csv')\n",
    "print(trainset.shape)\n",
    "print(testset.shape)"
   ]
  },
  {
   "cell_type": "code",
   "execution_count": 4,
   "metadata": {},
   "outputs": [
    {
     "data": {
      "text/html": [
       "<div>\n",
       "<style scoped>\n",
       "    .dataframe tbody tr th:only-of-type {\n",
       "        vertical-align: middle;\n",
       "    }\n",
       "\n",
       "    .dataframe tbody tr th {\n",
       "        vertical-align: top;\n",
       "    }\n",
       "\n",
       "    .dataframe thead th {\n",
       "        text-align: right;\n",
       "    }\n",
       "</style>\n",
       "<table border=\"1\" class=\"dataframe\">\n",
       "  <thead>\n",
       "    <tr style=\"text-align: right;\">\n",
       "      <th></th>\n",
       "      <th>0_Ca</th>\n",
       "      <th>0_Cl</th>\n",
       "      <th>0_Na</th>\n",
       "      <th>0_K</th>\n",
       "      <th>0_N5</th>\n",
       "      <th>1_Ca</th>\n",
       "      <th>1_Cl</th>\n",
       "      <th>1_Na</th>\n",
       "      <th>1_K</th>\n",
       "      <th>1_N5</th>\n",
       "      <th>out_Ca</th>\n",
       "      <th>out_Cl</th>\n",
       "      <th>out_Na</th>\n",
       "      <th>out_K</th>\n",
       "      <th>out_N5</th>\n",
       "    </tr>\n",
       "  </thead>\n",
       "  <tbody>\n",
       "    <tr>\n",
       "      <th>0</th>\n",
       "      <td>0.341575</td>\n",
       "      <td>1.159034</td>\n",
       "      <td>0.012636</td>\n",
       "      <td>0.451710</td>\n",
       "      <td>0.794808</td>\n",
       "      <td>0.347226</td>\n",
       "      <td>0.116634</td>\n",
       "      <td>0.755911</td>\n",
       "      <td>0.674340</td>\n",
       "      <td>1.359338</td>\n",
       "      <td>0.3233</td>\n",
       "      <td>1.1590</td>\n",
       "      <td>0.02901</td>\n",
       "      <td>0.4719</td>\n",
       "      <td>0.79480</td>\n",
       "    </tr>\n",
       "    <tr>\n",
       "      <th>1</th>\n",
       "      <td>0.638607</td>\n",
       "      <td>0.558054</td>\n",
       "      <td>1.231009</td>\n",
       "      <td>0.243433</td>\n",
       "      <td>1.132821</td>\n",
       "      <td>0.038278</td>\n",
       "      <td>0.185744</td>\n",
       "      <td>0.734268</td>\n",
       "      <td>1.464984</td>\n",
       "      <td>1.489907</td>\n",
       "      <td>0.4584</td>\n",
       "      <td>0.5581</td>\n",
       "      <td>1.24700</td>\n",
       "      <td>0.5882</td>\n",
       "      <td>1.13300</td>\n",
       "    </tr>\n",
       "    <tr>\n",
       "      <th>2</th>\n",
       "      <td>0.787981</td>\n",
       "      <td>0.763241</td>\n",
       "      <td>0.349968</td>\n",
       "      <td>0.738449</td>\n",
       "      <td>1.452716</td>\n",
       "      <td>1.117356</td>\n",
       "      <td>0.110285</td>\n",
       "      <td>0.393380</td>\n",
       "      <td>0.282715</td>\n",
       "      <td>1.466671</td>\n",
       "      <td>0.8053</td>\n",
       "      <td>0.7632</td>\n",
       "      <td>0.34980</td>\n",
       "      <td>0.7038</td>\n",
       "      <td>1.45300</td>\n",
       "    </tr>\n",
       "    <tr>\n",
       "      <th>3</th>\n",
       "      <td>0.466115</td>\n",
       "      <td>0.948450</td>\n",
       "      <td>0.942671</td>\n",
       "      <td>1.051085</td>\n",
       "      <td>1.358636</td>\n",
       "      <td>0.470234</td>\n",
       "      <td>0.252135</td>\n",
       "      <td>0.914662</td>\n",
       "      <td>1.318543</td>\n",
       "      <td>1.076570</td>\n",
       "      <td>0.4558</td>\n",
       "      <td>0.9484</td>\n",
       "      <td>0.94180</td>\n",
       "      <td>1.0730</td>\n",
       "      <td>1.35900</td>\n",
       "    </tr>\n",
       "    <tr>\n",
       "      <th>4</th>\n",
       "      <td>0.452663</td>\n",
       "      <td>0.644895</td>\n",
       "      <td>1.360873</td>\n",
       "      <td>0.991130</td>\n",
       "      <td>0.162887</td>\n",
       "      <td>1.361588</td>\n",
       "      <td>1.475943</td>\n",
       "      <td>0.637112</td>\n",
       "      <td>0.397679</td>\n",
       "      <td>1.414160</td>\n",
       "      <td>0.4939</td>\n",
       "      <td>0.6449</td>\n",
       "      <td>1.34300</td>\n",
       "      <td>0.9266</td>\n",
       "      <td>0.16290</td>\n",
       "    </tr>\n",
       "    <tr>\n",
       "      <th>...</th>\n",
       "      <td>...</td>\n",
       "      <td>...</td>\n",
       "      <td>...</td>\n",
       "      <td>...</td>\n",
       "      <td>...</td>\n",
       "      <td>...</td>\n",
       "      <td>...</td>\n",
       "      <td>...</td>\n",
       "      <td>...</td>\n",
       "      <td>...</td>\n",
       "      <td>...</td>\n",
       "      <td>...</td>\n",
       "      <td>...</td>\n",
       "      <td>...</td>\n",
       "      <td>...</td>\n",
       "    </tr>\n",
       "    <tr>\n",
       "      <th>79995</th>\n",
       "      <td>0.796601</td>\n",
       "      <td>0.398041</td>\n",
       "      <td>1.132371</td>\n",
       "      <td>0.996845</td>\n",
       "      <td>0.094560</td>\n",
       "      <td>1.074895</td>\n",
       "      <td>1.055513</td>\n",
       "      <td>0.777877</td>\n",
       "      <td>0.870241</td>\n",
       "      <td>0.361988</td>\n",
       "      <td>0.8083</td>\n",
       "      <td>0.3980</td>\n",
       "      <td>1.12600</td>\n",
       "      <td>0.9802</td>\n",
       "      <td>0.09456</td>\n",
       "    </tr>\n",
       "    <tr>\n",
       "      <th>79996</th>\n",
       "      <td>0.942419</td>\n",
       "      <td>1.456538</td>\n",
       "      <td>1.164360</td>\n",
       "      <td>0.775981</td>\n",
       "      <td>0.069458</td>\n",
       "      <td>1.024540</td>\n",
       "      <td>1.025283</td>\n",
       "      <td>0.144121</td>\n",
       "      <td>1.438743</td>\n",
       "      <td>0.241862</td>\n",
       "      <td>0.9305</td>\n",
       "      <td>1.4570</td>\n",
       "      <td>1.15000</td>\n",
       "      <td>0.8141</td>\n",
       "      <td>0.06946</td>\n",
       "    </tr>\n",
       "    <tr>\n",
       "      <th>79997</th>\n",
       "      <td>1.095302</td>\n",
       "      <td>0.438446</td>\n",
       "      <td>1.335379</td>\n",
       "      <td>0.365207</td>\n",
       "      <td>0.273701</td>\n",
       "      <td>0.765942</td>\n",
       "      <td>0.880543</td>\n",
       "      <td>1.152310</td>\n",
       "      <td>1.119219</td>\n",
       "      <td>1.104459</td>\n",
       "      <td>1.0670</td>\n",
       "      <td>0.4384</td>\n",
       "      <td>1.33500</td>\n",
       "      <td>0.4223</td>\n",
       "      <td>0.27370</td>\n",
       "    </tr>\n",
       "    <tr>\n",
       "      <th>79998</th>\n",
       "      <td>0.310626</td>\n",
       "      <td>0.661302</td>\n",
       "      <td>0.192742</td>\n",
       "      <td>1.280823</td>\n",
       "      <td>0.931653</td>\n",
       "      <td>0.199012</td>\n",
       "      <td>0.072267</td>\n",
       "      <td>0.870017</td>\n",
       "      <td>0.563615</td>\n",
       "      <td>0.006399</td>\n",
       "      <td>0.3275</td>\n",
       "      <td>0.6613</td>\n",
       "      <td>0.21380</td>\n",
       "      <td>1.2260</td>\n",
       "      <td>0.93170</td>\n",
       "    </tr>\n",
       "    <tr>\n",
       "      <th>79999</th>\n",
       "      <td>0.615264</td>\n",
       "      <td>0.605845</td>\n",
       "      <td>0.029464</td>\n",
       "      <td>0.670703</td>\n",
       "      <td>0.573957</td>\n",
       "      <td>0.756683</td>\n",
       "      <td>0.786792</td>\n",
       "      <td>0.335492</td>\n",
       "      <td>1.038286</td>\n",
       "      <td>1.078064</td>\n",
       "      <td>0.6031</td>\n",
       "      <td>0.6058</td>\n",
       "      <td>0.03403</td>\n",
       "      <td>0.6905</td>\n",
       "      <td>0.57400</td>\n",
       "    </tr>\n",
       "  </tbody>\n",
       "</table>\n",
       "<p>80000 rows × 15 columns</p>\n",
       "</div>"
      ],
      "text/plain": [
       "           0_Ca      0_Cl      0_Na       0_K      0_N5      1_Ca      1_Cl  \\\n",
       "0      0.341575  1.159034  0.012636  0.451710  0.794808  0.347226  0.116634   \n",
       "1      0.638607  0.558054  1.231009  0.243433  1.132821  0.038278  0.185744   \n",
       "2      0.787981  0.763241  0.349968  0.738449  1.452716  1.117356  0.110285   \n",
       "3      0.466115  0.948450  0.942671  1.051085  1.358636  0.470234  0.252135   \n",
       "4      0.452663  0.644895  1.360873  0.991130  0.162887  1.361588  1.475943   \n",
       "...         ...       ...       ...       ...       ...       ...       ...   \n",
       "79995  0.796601  0.398041  1.132371  0.996845  0.094560  1.074895  1.055513   \n",
       "79996  0.942419  1.456538  1.164360  0.775981  0.069458  1.024540  1.025283   \n",
       "79997  1.095302  0.438446  1.335379  0.365207  0.273701  0.765942  0.880543   \n",
       "79998  0.310626  0.661302  0.192742  1.280823  0.931653  0.199012  0.072267   \n",
       "79999  0.615264  0.605845  0.029464  0.670703  0.573957  0.756683  0.786792   \n",
       "\n",
       "           1_Na       1_K      1_N5  out_Ca  out_Cl   out_Na   out_K   out_N5  \n",
       "0      0.755911  0.674340  1.359338  0.3233  1.1590  0.02901  0.4719  0.79480  \n",
       "1      0.734268  1.464984  1.489907  0.4584  0.5581  1.24700  0.5882  1.13300  \n",
       "2      0.393380  0.282715  1.466671  0.8053  0.7632  0.34980  0.7038  1.45300  \n",
       "3      0.914662  1.318543  1.076570  0.4558  0.9484  0.94180  1.0730  1.35900  \n",
       "4      0.637112  0.397679  1.414160  0.4939  0.6449  1.34300  0.9266  0.16290  \n",
       "...         ...       ...       ...     ...     ...      ...     ...      ...  \n",
       "79995  0.777877  0.870241  0.361988  0.8083  0.3980  1.12600  0.9802  0.09456  \n",
       "79996  0.144121  1.438743  0.241862  0.9305  1.4570  1.15000  0.8141  0.06946  \n",
       "79997  1.152310  1.119219  1.104459  1.0670  0.4384  1.33500  0.4223  0.27370  \n",
       "79998  0.870017  0.563615  0.006399  0.3275  0.6613  0.21380  1.2260  0.93170  \n",
       "79999  0.335492  1.038286  1.078064  0.6031  0.6058  0.03403  0.6905  0.57400  \n",
       "\n",
       "[80000 rows x 15 columns]"
      ]
     },
     "execution_count": 4,
     "metadata": {},
     "output_type": "execute_result"
    }
   ],
   "source": [
    "trainset"
   ]
  },
  {
   "cell_type": "code",
   "execution_count": 5,
   "metadata": {},
   "outputs": [
    {
     "data": {
      "image/png": "[encoded data removed]",
      "text/plain": [
       "<Figure size 1296x1080 with 16 Axes>"
      ]
     },
     "metadata": {
      "needs_background": "light"
     },
     "output_type": "display_data"
    }
   ],
   "source": [
    "trainset.hist(figsize=(18, 15));\n",
    "plt.tight_layout()"
   ]
  },
  {
   "cell_type": "code",
   "execution_count": 6,
   "metadata": {},
   "outputs": [],
   "source": [
    "# split x and y\n",
    "X_train = trainset.iloc[:, [0,2,3,5,7,8]].values \n",
    "y_train = trainset.iloc[:, [10, 12, 13]].values\n",
    "X_test = testset.iloc[:, [0,2,3,5,7,8]].values \n",
    "y_test = testset.iloc[:, [10, 12, 13]].values\n",
    "\n",
    "# Name variables\n",
    "inputs = [list(trainset)[i] for i in [0,2,3,5,7,8]] \n",
    "outputs = [list(trainset)[i] for i in [10, 12, 13]] # do not work for list -> list(trainset)[10, 12, 13]"
   ]
  },
  {
   "cell_type": "code",
   "execution_count": 7,
   "metadata": {},
   "outputs": [],
   "source": [
    "from sklearn.model_selection import train_test_split\n",
    "\n",
    "X_train, X_val, y_train, y_val = train_test_split(X_train, y_train, test_size=0.2, random_state=4)"
   ]
  },
  {
   "cell_type": "code",
   "execution_count": 8,
   "metadata": {},
   "outputs": [
    {
     "name": "stdout",
     "output_type": "stream",
     "text": [
      "Inputs:  ['0_Ca', '0_Na', '0_K', '1_Ca', '1_Na', '1_K']\n",
      "Outputs:  ['out_Ca', 'out_Na', 'out_K']\n",
      "X_train instances:  (64000, 6)\n",
      "X_test instances:  (20000, 6)\n",
      "X_val instances:  (16000, 6)\n",
      "y_train instances:  (64000, 3)\n",
      "y_test instances:  (20000, 3)\n",
      "y_val instances:  (16000, 3)\n"
     ]
    }
   ],
   "source": [
    "print('Inputs: ', inputs)\n",
    "print('Outputs: ', outputs)\n",
    "print('X_train instances: ', X_train.shape)\n",
    "print('X_test instances: ', X_test.shape)\n",
    "print('X_val instances: ', X_val.shape)\n",
    "print('y_train instances: ', y_train.shape)\n",
    "print('y_test instances: ', y_test.shape)\n",
    "print('y_val instances: ', y_val.shape)"
   ]
  },
  {
   "cell_type": "markdown",
   "metadata": {},
   "source": [
    "## Normalize data"
   ]
  },
  {
   "cell_type": "code",
   "execution_count": 9,
   "metadata": {},
   "outputs": [],
   "source": [
    "from sklearn.pipeline import Pipeline\n",
    "from sklearn.preprocessing import MinMaxScaler, StandardScaler\n",
    "\n",
    "norm_pipeline = Pipeline([\n",
    "        ('minmax_scaler', MinMaxScaler((-1,1))),\n",
    "    ])\n",
    "\n",
    "X_train_norm = norm_pipeline.fit_transform(X_train)\n",
    "X_test_norm = norm_pipeline.transform(X_test)\n",
    "X_val_norm = norm_pipeline.transform(X_val)"
   ]
  },
  {
   "cell_type": "raw",
   "metadata": {},
   "source": [
    "ynorm_pipeline = Pipeline([\n",
    "        ('minmax_scaler', MinMaxScaler((-1,1))),\n",
    "    ])\n",
    "\n",
    "y_train_norm = ynorm_pipeline.fit_transform(y_train)\n",
    "y_test_norm = ynorm_pipeline.transform(y_test)\n",
    "y_val_norm = ynorm_pipeline.transform(y_val)"
   ]
  },
  {
   "cell_type": "markdown",
   "metadata": {},
   "source": [
    "# TF-Transformer"
   ]
  },
  {
   "cell_type": "code",
   "execution_count": 10,
   "metadata": {
    "scrolled": true
   },
   "outputs": [
    {
     "name": "stdout",
     "output_type": "stream",
     "text": [
      "Requirement already satisfied: rtdl in /home/viluiz/anaconda3/envs/py3ml2-tab/lib/python3.9/site-packages (0.0.13)\n",
      "Requirement already satisfied: numpy<2,>=1.18 in /home/viluiz/anaconda3/envs/py3ml2-tab/lib/python3.9/site-packages (from rtdl) (1.21.2)\n",
      "Requirement already satisfied: torch<2,>=1.7 in /home/viluiz/anaconda3/envs/py3ml2-tab/lib/python3.9/site-packages (from rtdl) (1.12.1)\n",
      "Requirement already satisfied: typing-extensions in /home/viluiz/anaconda3/envs/py3ml2-tab/lib/python3.9/site-packages (from torch<2,>=1.7->rtdl) (4.1.1)\n",
      "Requirement already satisfied: libzero==0.0.4 in /home/viluiz/anaconda3/envs/py3ml2-tab/lib/python3.9/site-packages (0.0.4)\n",
      "Requirement already satisfied: numpy<2,>=1.17 in /home/viluiz/anaconda3/envs/py3ml2-tab/lib/python3.9/site-packages (from libzero==0.0.4) (1.21.2)\n",
      "Requirement already satisfied: pynvml<9,>=8.0 in /home/viluiz/anaconda3/envs/py3ml2-tab/lib/python3.9/site-packages (from libzero==0.0.4) (8.0.4)\n",
      "Requirement already satisfied: tqdm<5,>=4.0 in /home/viluiz/anaconda3/envs/py3ml2-tab/lib/python3.9/site-packages (from libzero==0.0.4) (4.64.0)\n",
      "Requirement already satisfied: torch<2,>=1.6 in /home/viluiz/anaconda3/envs/py3ml2-tab/lib/python3.9/site-packages (from libzero==0.0.4) (1.12.1)\n",
      "Requirement already satisfied: typing-extensions in /home/viluiz/anaconda3/envs/py3ml2-tab/lib/python3.9/site-packages (from torch<2,>=1.6->libzero==0.0.4) (4.1.1)\n"
     ]
    }
   ],
   "source": [
    "# Requirements:\n",
    "!pip install rtdl\n",
    "!pip install libzero==0.0.4"
   ]
  },
  {
   "cell_type": "code",
   "execution_count": 11,
   "metadata": {
    "scrolled": true
   },
   "outputs": [
    {
     "name": "stderr",
     "output_type": "stream",
     "text": [
      "/home/viluiz/anaconda3/envs/py3ml2-tab/lib/python3.9/site-packages/tqdm/auto.py:22: TqdmWarning: IProgress not found. Please update jupyter and ipywidgets. See https://ipywidgets.readthedocs.io/en/stable/user_install.html\n",
      "  from .autonotebook import tqdm as notebook_tqdm\n"
     ]
    }
   ],
   "source": [
    "import rtdl\n",
    "import torch\n",
    "import torch.nn as nn\n",
    "import torch.nn.functional as F\n",
    "import zero"
   ]
  },
  {
   "cell_type": "code",
   "execution_count": 12,
   "metadata": {},
   "outputs": [
    {
     "name": "stdout",
     "output_type": "stream",
     "text": [
      "torch.cuda.is_available:\t True\n",
      "torch.cuda.device_count:\t 1\n",
      "torch.cuda.current_device:\t 0\n",
      "torch.cuda.device:\t\t <torch.cuda.device object at 0x7fcff20c2b50>\n",
      "torch.cuda.get_device_name:\t Quadro RTX 4000\n"
     ]
    }
   ],
   "source": [
    "print('torch.cuda.is_available:\\t',torch.cuda.is_available())\n",
    "print('torch.cuda.device_count:\\t',torch.cuda.device_count())\n",
    "print('torch.cuda.current_device:\\t',torch.cuda.current_device())\n",
    "print('torch.cuda.device:\\t\\t',torch.cuda.device(0))\n",
    "print('torch.cuda.get_device_name:\\t',torch.cuda.get_device_name(0))"
   ]
  },
  {
   "cell_type": "code",
   "execution_count": 13,
   "metadata": {},
   "outputs": [
    {
     "data": {
      "text/plain": [
       "123456"
      ]
     },
     "execution_count": 13,
     "metadata": {},
     "output_type": "execute_result"
    }
   ],
   "source": [
    "#device = torch.device('cpu')\n",
    "device = torch.device(\"cuda:0\" if torch.cuda.is_available() else \"cpu\")\n",
    "# Docs: https://yura52.github.io/zero/0.0.4/reference/api/zero.improve_reproducibility.html\n",
    "zero.improve_reproducibility(seed=123456)"
   ]
  },
  {
   "cell_type": "code",
   "execution_count": 14,
   "metadata": {
    "scrolled": true
   },
   "outputs": [],
   "source": [
    "X_train_norm = torch.tensor(X_train_norm.astype('float32')).to(device)\n",
    "X_test_norm = torch.tensor(X_test_norm.astype('float32')).to(device)\n",
    "y_train = torch.tensor(y_train.astype('float32')).to(device)\n",
    "y_test = torch.tensor(y_test.astype('float32')).to(device)"
   ]
  },
  {
   "cell_type": "code",
   "execution_count": 15,
   "metadata": {},
   "outputs": [
    {
     "data": {
      "text/plain": [
       "{'n_blocks': 3,\n",
       " 'residual_dropout': 0.0,\n",
       " 'ffn_d_hidden': 256,\n",
       " 'd_token': 192,\n",
       " 'attention_dropout': 0.2,\n",
       " 'ffn_dropout': 0.1,\n",
       " 'attention_n_heads': 8,\n",
       " 'attention_initialization': 'kaiming',\n",
       " 'ffn_activation': 'ReGLU',\n",
       " 'attention_normalization': 'LayerNorm',\n",
       " 'ffn_normalization': 'LayerNorm',\n",
       " 'prenormalization': True,\n",
       " 'first_prenormalization': False,\n",
       " 'last_layer_query_idx': None,\n",
       " 'n_tokens': None,\n",
       " 'kv_compression_ratio': None,\n",
       " 'kv_compression_sharing': None,\n",
       " 'head_activation': 'ReLU',\n",
       " 'head_normalization': 'LayerNorm'}"
      ]
     },
     "execution_count": 15,
     "metadata": {},
     "output_type": "execute_result"
    }
   ],
   "source": [
    "rtdl.FTTransformer.get_default_transformer_config()"
   ]
  },
  {
   "cell_type": "code",
   "execution_count": 16,
   "metadata": {
    "scrolled": true
   },
   "outputs": [
    {
     "name": "stdout",
     "output_type": "stream",
     "text": [
      "Requirement already satisfied: optuna in /home/viluiz/anaconda3/envs/py3ml2-tab/lib/python3.9/site-packages (2.10.1)\n",
      "Requirement already satisfied: alembic in /home/viluiz/anaconda3/envs/py3ml2-tab/lib/python3.9/site-packages (from optuna) (1.8.1)\n",
      "Requirement already satisfied: scipy!=1.4.0 in /home/viluiz/anaconda3/envs/py3ml2-tab/lib/python3.9/site-packages (from optuna) (1.7.3)\n",
      "Requirement already satisfied: sqlalchemy>=1.1.0 in /home/viluiz/anaconda3/envs/py3ml2-tab/lib/python3.9/site-packages (from optuna) (1.4.39)\n",
      "Requirement already satisfied: PyYAML in /home/viluiz/anaconda3/envs/py3ml2-tab/lib/python3.9/site-packages (from optuna) (6.0)\n",
      "Requirement already satisfied: cliff in /home/viluiz/anaconda3/envs/py3ml2-tab/lib/python3.9/site-packages (from optuna) (3.10.1)\n",
      "Requirement already satisfied: packaging>=20.0 in /home/viluiz/anaconda3/envs/py3ml2-tab/lib/python3.9/site-packages (from optuna) (21.3)\n",
      "Requirement already satisfied: colorlog in /home/viluiz/anaconda3/envs/py3ml2-tab/lib/python3.9/site-packages (from optuna) (6.6.0)\n",
      "Requirement already satisfied: tqdm in /home/viluiz/anaconda3/envs/py3ml2-tab/lib/python3.9/site-packages (from optuna) (4.64.0)\n",
      "Requirement already satisfied: numpy in /home/viluiz/anaconda3/envs/py3ml2-tab/lib/python3.9/site-packages (from optuna) (1.21.2)\n",
      "Requirement already satisfied: cmaes>=0.8.2 in /home/viluiz/anaconda3/envs/py3ml2-tab/lib/python3.9/site-packages (from optuna) (0.8.2)\n",
      "Requirement already satisfied: pyparsing!=3.0.5,>=2.0.2 in /home/viluiz/anaconda3/envs/py3ml2-tab/lib/python3.9/site-packages (from packaging>=20.0->optuna) (3.0.4)\n",
      "Requirement already satisfied: greenlet!=0.4.17 in /home/viluiz/anaconda3/envs/py3ml2-tab/lib/python3.9/site-packages (from sqlalchemy>=1.1.0->optuna) (1.1.2)\n",
      "Requirement already satisfied: Mako in /home/viluiz/anaconda3/envs/py3ml2-tab/lib/python3.9/site-packages (from alembic->optuna) (1.2.1)\n",
      "Requirement already satisfied: pbr!=2.1.0,>=2.0.0 in /home/viluiz/anaconda3/envs/py3ml2-tab/lib/python3.9/site-packages (from cliff->optuna) (5.9.0)\n",
      "Requirement already satisfied: cmd2>=1.0.0 in /home/viluiz/anaconda3/envs/py3ml2-tab/lib/python3.9/site-packages (from cliff->optuna) (2.4.2)\n",
      "Requirement already satisfied: autopage>=0.4.0 in /home/viluiz/anaconda3/envs/py3ml2-tab/lib/python3.9/site-packages (from cliff->optuna) (0.5.1)\n",
      "Requirement already satisfied: stevedore>=2.0.1 in /home/viluiz/anaconda3/envs/py3ml2-tab/lib/python3.9/site-packages (from cliff->optuna) (4.0.0)\n",
      "Requirement already satisfied: PrettyTable>=0.7.2 in /home/viluiz/anaconda3/envs/py3ml2-tab/lib/python3.9/site-packages (from cliff->optuna) (3.3.0)\n",
      "Requirement already satisfied: pyperclip>=1.6 in /home/viluiz/anaconda3/envs/py3ml2-tab/lib/python3.9/site-packages (from cmd2>=1.0.0->cliff->optuna) (1.8.2)\n",
      "Requirement already satisfied: wcwidth>=0.1.7 in /home/viluiz/anaconda3/envs/py3ml2-tab/lib/python3.9/site-packages (from cmd2>=1.0.0->cliff->optuna) (0.2.5)\n",
      "Requirement already satisfied: attrs>=16.3.0 in /home/viluiz/anaconda3/envs/py3ml2-tab/lib/python3.9/site-packages (from cmd2>=1.0.0->cliff->optuna) (21.4.0)\n",
      "Requirement already satisfied: MarkupSafe>=0.9.2 in /home/viluiz/anaconda3/envs/py3ml2-tab/lib/python3.9/site-packages (from Mako->alembic->optuna) (2.0.1)\n"
     ]
    }
   ],
   "source": [
    "!pip install optuna"
   ]
  },
  {
   "cell_type": "code",
   "execution_count": 17,
   "metadata": {},
   "outputs": [],
   "source": [
    "import optuna\n",
    "from sklearn.model_selection import KFold\n",
    "\n",
    "batch_size = 256\n",
    "n_epochs = 100\n",
    "dataset= torch.utils.data.TensorDataset(X_train_norm, y_train)\n",
    "\n",
    "\n",
    "def define_model(trial):\n",
    "\n",
    "    model = rtdl.FTTransformer.make_baseline(\n",
    "            n_num_features=X_train.shape[1],\n",
    "            cat_cardinalities=None,\n",
    "            last_layer_query_idx=[-1], \n",
    "            d_token=trial.suggest_int('d_token',64,512,step=8), #192,\n",
    "            n_blocks=trial.suggest_int('n_tranformer',1,4), #3,\n",
    "            ffn_d_hidden=256,\n",
    "            attention_dropout=trial.suggest_float(\"dropout_att\", 0.0, 0.5), #0.2,\n",
    "            ffn_dropout=trial.suggest_float(\"dropout_ffn\", 0.0, 0.5), #0.1,\n",
    "            residual_dropout=0.0,\n",
    "            d_out=y_train.shape[1])\n",
    "    \n",
    "    return model\n",
    "\n",
    "def objective(trial, train_loader, valid_loader):\n",
    "    \n",
    "    # Generate the model.\n",
    "    model = define_model(trial).to(device)\n",
    "    \n",
    "    optimizer = model.make_default_optimizer()\n",
    "    loss_fn = F.mse_loss\n",
    "    \n",
    "    score = []\n",
    "    for epoch in range(1, n_epochs + 1):\n",
    "        model.train()\n",
    "        for iteration, (x_batch, y_batch) in enumerate(train_loader):\n",
    "            \n",
    "            x_batch, y_batch = x_batch.to(device), y_batch.to(device)\n",
    "            loss = loss_fn(model(x_batch,None).squeeze(1), y_batch)\n",
    "\n",
    "            optimizer.zero_grad()\n",
    "            loss.backward()\n",
    "            optimizer.step()\n",
    "\n",
    "            #if iteration % report_frequency == 0:\n",
    "            #    print(f'(epoch) {epoch} (batch) {iteration} (loss) {loss.item():.4f}')\n",
    "        \n",
    "        model.eval()\n",
    "        prediction = [] \n",
    "        target = []\n",
    "        with torch.no_grad():\n",
    "            for iteration, (x_batch, y_batch) in enumerate(valid_loader):\n",
    "                x_batch, y_batch = x_batch.to(device), y_batch.to(device)\n",
    "                prediction.append(model(x_batch,None))\n",
    "                target.append(y_batch)\n",
    "            prediction = torch.cat(prediction).squeeze(1).cpu().numpy()\n",
    "            target = torch.cat(target).squeeze(1).cpu().numpy()\n",
    "\n",
    "        score.append(np.sqrt(sklearn.metrics.mean_squared_error(target, prediction)))\n",
    "         \n",
    "    return min(score)\n",
    "\n",
    "def objective_cv(trial):\n",
    "\n",
    "    fold = KFold(n_splits=3, shuffle=True, random_state=0)\n",
    "    scores = []\n",
    "    for fold_idx, (train_idx, valid_idx) in enumerate(fold.split(range(len(dataset)))):\n",
    "        train_data = torch.utils.data.Subset(dataset, train_idx)\n",
    "        valid_data = torch.utils.data.Subset(dataset, valid_idx)\n",
    "\n",
    "        train_loader = torch.utils.data.DataLoader(\n",
    "            train_data,\n",
    "            batch_size=batch_size,\n",
    "            shuffle=True,\n",
    "        )\n",
    "        valid_loader = torch.utils.data.DataLoader(\n",
    "            valid_data,\n",
    "            batch_size=batch_size,\n",
    "            shuffle=True,\n",
    "        )\n",
    "\n",
    "        score = objective(trial, train_loader, valid_loader)\n",
    "        scores.append(score)\n",
    "        \n",
    "        trial.report(score, fold_idx)\n",
    "        if trial.should_prune():\n",
    "            raise optuna.TrialPruned()\n",
    "        \n",
    "    print(f'Mean : {np.mean(scores)}, std: {np.std(scores)}')\n",
    "    return np.mean(scores)"
   ]
  },
  {
   "cell_type": "code",
   "execution_count": 18,
   "metadata": {
    "scrolled": true
   },
   "outputs": [
    {
     "name": "stderr",
     "output_type": "stream",
     "text": [
      "\u001b[32m[I 2022-08-12 14:30:11,471]\u001b[0m A new study created in memory with name: no-name-a34212a3-d1fd-4aee-8c9a-b6d362caa54d\u001b[0m\n",
      "\u001b[32m[I 2022-08-12 14:44:40,397]\u001b[0m Trial 0 finished with value: 0.006097274366766214 and parameters: {'d_token': 192, 'n_tranformer': 3, 'dropout_att': 0.2, 'dropout_ffn': 0.0}. Best is trial 0 with value: 0.006097274366766214.\u001b[0m\n"
     ]
    },
    {
     "name": "stdout",
     "output_type": "stream",
     "text": [
      "Mean : 0.006097274366766214, std: 0.00023549640900455415\n"
     ]
    },
    {
     "name": "stderr",
     "output_type": "stream",
     "text": [
      "\u001b[32m[I 2022-08-12 14:55:19,117]\u001b[0m Trial 1 finished with value: 0.0059922426007688046 and parameters: {'d_token': 128, 'n_tranformer': 2, 'dropout_att': 0.1, 'dropout_ffn': 0.1}. Best is trial 1 with value: 0.0059922426007688046.\u001b[0m\n"
     ]
    },
    {
     "name": "stdout",
     "output_type": "stream",
     "text": [
      "Mean : 0.0059922426007688046, std: 0.00034576543839648366\n"
     ]
    },
    {
     "name": "stderr",
     "output_type": "stream",
     "text": [
      "\u001b[32m[I 2022-08-12 15:12:06,604]\u001b[0m Trial 2 finished with value: 0.00626137712970376 and parameters: {'d_token': 128, 'n_tranformer': 4, 'dropout_att': 0.3, 'dropout_ffn': 0.1}. Best is trial 1 with value: 0.0059922426007688046.\u001b[0m\n"
     ]
    },
    {
     "name": "stdout",
     "output_type": "stream",
     "text": [
      "Mean : 0.00626137712970376, std: 0.00018695008475333452\n"
     ]
    },
    {
     "name": "stderr",
     "output_type": "stream",
     "text": [
      "\u001b[32m[I 2022-08-12 15:22:27,216]\u001b[0m Trial 3 finished with value: 0.006276730448007584 and parameters: {'d_token': 128, 'n_tranformer': 2, 'dropout_att': 0.1, 'dropout_ffn': 0.0}. Best is trial 1 with value: 0.0059922426007688046.\u001b[0m\n"
     ]
    },
    {
     "name": "stdout",
     "output_type": "stream",
     "text": [
      "Mean : 0.006276730448007584, std: 0.0010918430052697659\n"
     ]
    },
    {
     "name": "stderr",
     "output_type": "stream",
     "text": [
      "\u001b[32m[I 2022-08-12 15:37:43,366]\u001b[0m Trial 4 finished with value: 0.006131285335868597 and parameters: {'d_token': 128, 'n_tranformer': 4, 'dropout_att': 0.2, 'dropout_ffn': 0.0}. Best is trial 1 with value: 0.0059922426007688046.\u001b[0m\n"
     ]
    },
    {
     "name": "stdout",
     "output_type": "stream",
     "text": [
      "Mean : 0.006131285335868597, std: 0.00030044018058106303\n"
     ]
    },
    {
     "name": "stderr",
     "output_type": "stream",
     "text": [
      "\u001b[32m[I 2022-08-12 15:53:26,695]\u001b[0m Trial 5 finished with value: 0.005421437323093414 and parameters: {'d_token': 128, 'n_tranformer': 4, 'dropout_att': 0.1, 'dropout_ffn': 0.2}. Best is trial 5 with value: 0.005421437323093414.\u001b[0m\n"
     ]
    },
    {
     "name": "stdout",
     "output_type": "stream",
     "text": [
      "Mean : 0.005421437323093414, std: 0.00022565119434148073\n"
     ]
    },
    {
     "name": "stderr",
     "output_type": "stream",
     "text": [
      "\u001b[32m[I 2022-08-12 15:57:55,716]\u001b[0m Trial 6 pruned. \u001b[0m\n",
      "\u001b[32m[I 2022-08-12 16:02:57,289]\u001b[0m Trial 7 pruned. \u001b[0m\n",
      "\u001b[32m[I 2022-08-12 16:16:18,069]\u001b[0m Trial 8 finished with value: 0.006292218808084726 and parameters: {'d_token': 128, 'n_tranformer': 3, 'dropout_att': 0.3, 'dropout_ffn': 0.0}. Best is trial 5 with value: 0.005421437323093414.\u001b[0m\n"
     ]
    },
    {
     "name": "stdout",
     "output_type": "stream",
     "text": [
      "Mean : 0.006292218808084726, std: 0.0006473413668572903\n"
     ]
    },
    {
     "name": "stderr",
     "output_type": "stream",
     "text": [
      "\u001b[32m[I 2022-08-12 16:19:24,749]\u001b[0m Trial 9 pruned. \u001b[0m\n",
      "\u001b[32m[I 2022-08-12 16:23:01,867]\u001b[0m Trial 10 pruned. \u001b[0m\n",
      "\u001b[32m[I 2022-08-12 16:33:07,224]\u001b[0m Trial 11 finished with value: 0.005493088159710169 and parameters: {'d_token': 192, 'n_tranformer': 2, 'dropout_att': 0.1, 'dropout_ffn': 0.1}. Best is trial 5 with value: 0.005421437323093414.\u001b[0m\n"
     ]
    },
    {
     "name": "stdout",
     "output_type": "stream",
     "text": [
      "Mean : 0.005493088159710169, std: 0.000216064159758389\n"
     ]
    },
    {
     "name": "stderr",
     "output_type": "stream",
     "text": [
      "\u001b[32m[I 2022-08-12 16:43:09,728]\u001b[0m Trial 12 finished with value: 0.005740860942751169 and parameters: {'d_token': 128, 'n_tranformer': 2, 'dropout_att': 0.1, 'dropout_ffn': 0.2}. Best is trial 5 with value: 0.005421437323093414.\u001b[0m\n"
     ]
    },
    {
     "name": "stdout",
     "output_type": "stream",
     "text": [
      "Mean : 0.005740860942751169, std: 0.0004585396673064679\n"
     ]
    },
    {
     "name": "stderr",
     "output_type": "stream",
     "text": [
      "\u001b[32m[I 2022-08-12 16:48:52,372]\u001b[0m Trial 13 pruned. \u001b[0m\n",
      "\u001b[32m[I 2022-08-12 16:51:57,949]\u001b[0m Trial 14 pruned. \u001b[0m\n",
      "\u001b[32m[I 2022-08-12 17:05:45,247]\u001b[0m Trial 15 finished with value: 0.005263479892164469 and parameters: {'d_token': 256, 'n_tranformer': 3, 'dropout_att': 0.1, 'dropout_ffn': 0.2}. Best is trial 15 with value: 0.005263479892164469.\u001b[0m\n"
     ]
    },
    {
     "name": "stdout",
     "output_type": "stream",
     "text": [
      "Mean : 0.005263479892164469, std: 0.0004710072244051844\n"
     ]
    },
    {
     "name": "stderr",
     "output_type": "stream",
     "text": [
      "\u001b[32m[I 2022-08-12 17:15:55,627]\u001b[0m Trial 16 finished with value: 0.005554224830120802 and parameters: {'d_token': 256, 'n_tranformer': 2, 'dropout_att': 0.1, 'dropout_ffn': 0.2}. Best is trial 15 with value: 0.005263479892164469.\u001b[0m\n"
     ]
    },
    {
     "name": "stdout",
     "output_type": "stream",
     "text": [
      "Mean : 0.005554224830120802, std: 0.00028835010016337037\n"
     ]
    },
    {
     "name": "stderr",
     "output_type": "stream",
     "text": [
      "\u001b[32m[I 2022-08-12 17:20:04,412]\u001b[0m Trial 17 pruned. \u001b[0m\n",
      "\u001b[32m[I 2022-08-12 17:24:50,869]\u001b[0m Trial 18 pruned. \u001b[0m\n",
      "\u001b[32m[I 2022-08-12 17:28:05,815]\u001b[0m Trial 19 pruned. \u001b[0m\n",
      "\u001b[32m[I 2022-08-12 17:31:37,126]\u001b[0m Trial 20 pruned. \u001b[0m\n",
      "\u001b[32m[I 2022-08-12 17:45:15,183]\u001b[0m Trial 21 finished with value: 0.005678309593349695 and parameters: {'d_token': 128, 'n_tranformer': 3, 'dropout_att': 0.1, 'dropout_ffn': 0.2}. Best is trial 15 with value: 0.005263479892164469.\u001b[0m\n"
     ]
    },
    {
     "name": "stdout",
     "output_type": "stream",
     "text": [
      "Mean : 0.005678309593349695, std: 0.00043519167229533195\n"
     ]
    },
    {
     "name": "stderr",
     "output_type": "stream",
     "text": [
      "\u001b[32m[I 2022-08-12 17:50:55,134]\u001b[0m Trial 22 pruned. \u001b[0m\n",
      "\u001b[32m[I 2022-08-12 18:04:57,930]\u001b[0m Trial 23 finished with value: 0.005615850444883108 and parameters: {'d_token': 192, 'n_tranformer': 3, 'dropout_att': 0.3, 'dropout_ffn': 0.1}. Best is trial 15 with value: 0.005263479892164469.\u001b[0m\n"
     ]
    },
    {
     "name": "stdout",
     "output_type": "stream",
     "text": [
      "Mean : 0.005615850444883108, std: 0.00044650561176240444\n"
     ]
    },
    {
     "name": "stderr",
     "output_type": "stream",
     "text": [
      "\u001b[32m[I 2022-08-12 18:08:35,145]\u001b[0m Trial 24 pruned. \u001b[0m\n",
      "\u001b[32m[I 2022-08-12 18:14:12,712]\u001b[0m Trial 25 pruned. \u001b[0m\n",
      "\u001b[32m[I 2022-08-12 18:28:17,712]\u001b[0m Trial 26 finished with value: 0.005610872525721788 and parameters: {'d_token': 256, 'n_tranformer': 3, 'dropout_att': 0.3, 'dropout_ffn': 0.2}. Best is trial 15 with value: 0.005263479892164469.\u001b[0m\n"
     ]
    },
    {
     "name": "stdout",
     "output_type": "stream",
     "text": [
      "Mean : 0.005610872525721788, std: 0.00038425184902735054\n"
     ]
    },
    {
     "name": "stderr",
     "output_type": "stream",
     "text": [
      "\u001b[32m[I 2022-08-12 18:32:52,382]\u001b[0m Trial 27 pruned. \u001b[0m\n",
      "\u001b[32m[I 2022-08-12 18:38:26,577]\u001b[0m Trial 28 pruned. \u001b[0m\n",
      "\u001b[32m[I 2022-08-12 18:51:53,396]\u001b[0m Trial 29 finished with value: 0.0052327439188957214 and parameters: {'d_token': 256, 'n_tranformer': 3, 'dropout_att': 0.1, 'dropout_ffn': 0.0}. Best is trial 29 with value: 0.0052327439188957214.\u001b[0m\n"
     ]
    },
    {
     "name": "stdout",
     "output_type": "stream",
     "text": [
      "Mean : 0.0052327439188957214, std: 0.0005842997343279421\n"
     ]
    },
    {
     "name": "stderr",
     "output_type": "stream",
     "text": [
      "\u001b[32m[I 2022-08-12 19:04:55,987]\u001b[0m Trial 30 finished with value: 0.005372172221541405 and parameters: {'d_token': 256, 'n_tranformer': 3, 'dropout_att': 0.1, 'dropout_ffn': 0.1}. Best is trial 29 with value: 0.0052327439188957214.\u001b[0m\n"
     ]
    },
    {
     "name": "stdout",
     "output_type": "stream",
     "text": [
      "Mean : 0.005372172221541405, std: 0.0005062153213657439\n"
     ]
    },
    {
     "name": "stderr",
     "output_type": "stream",
     "text": [
      "\u001b[32m[I 2022-08-12 19:09:10,099]\u001b[0m Trial 31 pruned. \u001b[0m\n",
      "\u001b[32m[I 2022-08-12 19:12:17,492]\u001b[0m Trial 32 pruned. \u001b[0m\n",
      "\u001b[32m[I 2022-08-12 19:16:39,996]\u001b[0m Trial 33 pruned. \u001b[0m\n",
      "\u001b[32m[I 2022-08-12 19:22:09,092]\u001b[0m Trial 34 pruned. \u001b[0m\n",
      "\u001b[32m[I 2022-08-12 19:27:19,841]\u001b[0m Trial 35 pruned. \u001b[0m\n",
      "\u001b[32m[I 2022-08-12 19:31:32,632]\u001b[0m Trial 36 pruned. \u001b[0m\n",
      "\u001b[32m[I 2022-08-12 19:36:04,688]\u001b[0m Trial 37 pruned. \u001b[0m\n",
      "\u001b[32m[I 2022-08-12 19:39:39,278]\u001b[0m Trial 38 pruned. \u001b[0m\n",
      "\u001b[32m[I 2022-08-12 19:43:04,303]\u001b[0m Trial 39 pruned. \u001b[0m\n",
      "\u001b[32m[I 2022-08-12 19:46:37,709]\u001b[0m Trial 40 pruned. \u001b[0m\n",
      "\u001b[32m[I 2022-08-12 19:52:15,032]\u001b[0m Trial 41 pruned. \u001b[0m\n",
      "\u001b[32m[I 2022-08-12 19:57:01,730]\u001b[0m Trial 42 pruned. \u001b[0m\n",
      "\u001b[32m[I 2022-08-12 20:10:10,713]\u001b[0m Trial 43 finished with value: 0.0055664218962192535 and parameters: {'d_token': 256, 'n_tranformer': 3, 'dropout_att': 0.2, 'dropout_ffn': 0.0}. Best is trial 29 with value: 0.0052327439188957214.\u001b[0m\n"
     ]
    },
    {
     "name": "stdout",
     "output_type": "stream",
     "text": [
      "Mean : 0.0055664218962192535, std: 0.00040485855424776673\n"
     ]
    },
    {
     "name": "stderr",
     "output_type": "stream",
     "text": [
      "\u001b[32m[I 2022-08-12 20:15:45,397]\u001b[0m Trial 44 pruned. \u001b[0m\n",
      "\u001b[32m[I 2022-08-12 20:21:26,434]\u001b[0m Trial 45 pruned. \u001b[0m\n",
      "\u001b[32m[I 2022-08-12 20:27:00,899]\u001b[0m Trial 46 pruned. \u001b[0m\n",
      "\u001b[32m[I 2022-08-12 20:30:25,588]\u001b[0m Trial 47 pruned. \u001b[0m\n",
      "\u001b[32m[I 2022-08-12 20:35:51,158]\u001b[0m Trial 48 pruned. \u001b[0m\n",
      "\u001b[32m[I 2022-08-12 20:41:06,603]\u001b[0m Trial 49 pruned. \u001b[0m\n",
      "\u001b[32m[I 2022-08-12 20:44:38,545]\u001b[0m Trial 50 pruned. \u001b[0m\n",
      "\u001b[32m[I 2022-08-12 20:48:13,059]\u001b[0m Trial 51 pruned. \u001b[0m\n",
      "\u001b[32m[I 2022-08-12 20:51:54,015]\u001b[0m Trial 52 pruned. \u001b[0m\n",
      "\u001b[32m[I 2022-08-12 20:55:23,233]\u001b[0m Trial 53 pruned. \u001b[0m\n",
      "\u001b[32m[I 2022-08-12 21:01:07,977]\u001b[0m Trial 54 pruned. \u001b[0m\n",
      "\u001b[32m[I 2022-08-12 21:06:49,175]\u001b[0m Trial 55 pruned. \u001b[0m\n",
      "\u001b[32m[I 2022-08-12 21:23:29,074]\u001b[0m Trial 56 finished with value: 0.005710337311029434 and parameters: {'d_token': 256, 'n_tranformer': 4, 'dropout_att': 0.3, 'dropout_ffn': 0.1}. Best is trial 29 with value: 0.0052327439188957214.\u001b[0m\n"
     ]
    },
    {
     "name": "stdout",
     "output_type": "stream",
     "text": [
      "Mean : 0.005710337311029434, std: 0.0005009238375350833\n"
     ]
    },
    {
     "name": "stderr",
     "output_type": "stream",
     "text": [
      "\u001b[32m[I 2022-08-12 21:26:44,382]\u001b[0m Trial 57 pruned. \u001b[0m\n",
      "\u001b[32m[I 2022-08-12 21:32:27,741]\u001b[0m Trial 58 pruned. \u001b[0m\n",
      "\u001b[32m[I 2022-08-12 21:46:14,623]\u001b[0m Trial 59 finished with value: 0.00540736922994256 and parameters: {'d_token': 192, 'n_tranformer': 3, 'dropout_att': 0.1, 'dropout_ffn': 0.1}. Best is trial 29 with value: 0.0052327439188957214.\u001b[0m\n"
     ]
    },
    {
     "name": "stdout",
     "output_type": "stream",
     "text": [
      "Mean : 0.00540736922994256, std: 0.00032751631806604564\n"
     ]
    },
    {
     "name": "stderr",
     "output_type": "stream",
     "text": [
      "\u001b[32m[I 2022-08-12 21:51:28,497]\u001b[0m Trial 60 pruned. \u001b[0m\n",
      "\u001b[32m[I 2022-08-12 22:04:47,840]\u001b[0m Trial 61 finished with value: 0.005492453929036856 and parameters: {'d_token': 128, 'n_tranformer': 3, 'dropout_att': 0.1, 'dropout_ffn': 0.0}. Best is trial 29 with value: 0.0052327439188957214.\u001b[0m\n"
     ]
    },
    {
     "name": "stdout",
     "output_type": "stream",
     "text": [
      "Mean : 0.005492453929036856, std: 0.0005216957069933414\n"
     ]
    },
    {
     "name": "stderr",
     "output_type": "stream",
     "text": [
      "\u001b[32m[I 2022-08-12 22:09:32,794]\u001b[0m Trial 62 pruned. \u001b[0m\n",
      "\u001b[32m[I 2022-08-12 22:14:17,736]\u001b[0m Trial 63 pruned. \u001b[0m\n",
      "\u001b[32m[I 2022-08-12 22:24:41,230]\u001b[0m Trial 64 finished with value: 0.005853026639670134 and parameters: {'d_token': 192, 'n_tranformer': 2, 'dropout_att': 0.2, 'dropout_ffn': 0.2}. Best is trial 29 with value: 0.0052327439188957214.\u001b[0m\n"
     ]
    },
    {
     "name": "stdout",
     "output_type": "stream",
     "text": [
      "Mean : 0.005853026639670134, std: 0.0006368975155055523\n"
     ]
    },
    {
     "name": "stderr",
     "output_type": "stream",
     "text": [
      "\u001b[32m[I 2022-08-12 22:30:15,123]\u001b[0m Trial 65 pruned. \u001b[0m\n",
      "\u001b[32m[I 2022-08-12 22:35:47,384]\u001b[0m Trial 66 pruned. \u001b[0m\n",
      "\u001b[32m[I 2022-08-12 22:39:13,797]\u001b[0m Trial 67 pruned. \u001b[0m\n",
      "\u001b[32m[I 2022-08-12 22:42:44,344]\u001b[0m Trial 68 pruned. \u001b[0m\n",
      "\u001b[32m[I 2022-08-12 22:48:10,538]\u001b[0m Trial 69 pruned. \u001b[0m\n",
      "\u001b[32m[I 2022-08-12 22:53:46,689]\u001b[0m Trial 70 pruned. \u001b[0m\n",
      "\u001b[32m[I 2022-08-12 23:07:36,432]\u001b[0m Trial 71 finished with value: 0.00538075715303421 and parameters: {'d_token': 192, 'n_tranformer': 3, 'dropout_att': 0.1, 'dropout_ffn': 0.0}. Best is trial 29 with value: 0.0052327439188957214.\u001b[0m\n"
     ]
    },
    {
     "name": "stdout",
     "output_type": "stream",
     "text": [
      "Mean : 0.00538075715303421, std: 0.00034878734732046723\n"
     ]
    },
    {
     "name": "stderr",
     "output_type": "stream",
     "text": [
      "\u001b[32m[I 2022-08-12 23:12:11,131]\u001b[0m Trial 72 pruned. \u001b[0m\n",
      "\u001b[32m[I 2022-08-12 23:16:40,032]\u001b[0m Trial 73 pruned. \u001b[0m\n",
      "\u001b[32m[I 2022-08-12 23:27:12,081]\u001b[0m Trial 74 finished with value: 0.005489347968250513 and parameters: {'d_token': 256, 'n_tranformer': 2, 'dropout_att': 0.1, 'dropout_ffn': 0.1}. Best is trial 29 with value: 0.0052327439188957214.\u001b[0m\n"
     ]
    },
    {
     "name": "stdout",
     "output_type": "stream",
     "text": [
      "Mean : 0.005489347968250513, std: 0.0005353082087822258\n"
     ]
    },
    {
     "name": "stderr",
     "output_type": "stream",
     "text": [
      "\u001b[32m[I 2022-08-12 23:31:49,913]\u001b[0m Trial 75 pruned. \u001b[0m\n",
      "\u001b[32m[I 2022-08-12 23:35:08,154]\u001b[0m Trial 76 pruned. \u001b[0m\n",
      "\u001b[32m[I 2022-08-12 23:38:40,001]\u001b[0m Trial 77 pruned. \u001b[0m\n",
      "\u001b[32m[I 2022-08-12 23:44:08,308]\u001b[0m Trial 78 pruned. \u001b[0m\n",
      "\u001b[32m[I 2022-08-12 23:57:42,739]\u001b[0m Trial 79 finished with value: 0.004963402170687914 and parameters: {'d_token': 192, 'n_tranformer': 3, 'dropout_att': 0.1, 'dropout_ffn': 0.2}. Best is trial 79 with value: 0.004963402170687914.\u001b[0m\n"
     ]
    },
    {
     "name": "stdout",
     "output_type": "stream",
     "text": [
      "Mean : 0.004963402170687914, std: 0.0003307384322397411\n"
     ]
    },
    {
     "name": "stderr",
     "output_type": "stream",
     "text": [
      "\u001b[32m[I 2022-08-13 00:03:01,003]\u001b[0m Trial 80 pruned. \u001b[0m\n"
     ]
    },
    {
     "name": "stdout",
     "output_type": "stream",
     "text": [
      "Study statistics: \n",
      "  Number of finished trials:  81\n",
      "  Number of pruned trials:  57\n",
      "  Number of complete trials:  24\n",
      "Best trial:\n",
      "  Value:  0.004963402170687914\n",
      "  Params: \n",
      "    d_token: 192\n",
      "    n_tranformer: 3\n",
      "    dropout_att: 0.1\n",
      "    dropout_ffn: 0.2\n"
     ]
    }
   ],
   "source": [
    "# search_space only for sampler=GridSampler()\n",
    "search_space = {\"d_token\": [128, 192, 256], \n",
    "                \"n_tranformer\": [2, 3, 4], \n",
    "                \"dropout_att\": [0.1, 0.2, 0.3], \n",
    "                \"dropout_ffn\": [0.0, 0.1, 0.2]}\n",
    "study = optuna.create_study(direction=\"minimize\", sampler=optuna.samplers.GridSampler(search_space))\n",
    "study.optimize(objective_cv)\n",
    "\n",
    "pruned_trials = [t for t in study.trials if t.state == optuna.trial.TrialState.PRUNED]\n",
    "complete_trials = [t for t in study.trials if t.state == optuna.trial.TrialState.COMPLETE]\n",
    "\n",
    "print(\"Study statistics: \")\n",
    "print(\"  Number of finished trials: \", len(study.trials))\n",
    "print(\"  Number of pruned trials: \", len(pruned_trials))\n",
    "print(\"  Number of complete trials: \", len(complete_trials))\n",
    "\n",
    "print(\"Best trial:\")\n",
    "trial = study.best_trial\n",
    "\n",
    "print(\"  Value: \", trial.value)\n",
    "\n",
    "print(\"  Params: \")\n",
    "for key, value in trial.params.items():\n",
    "    print(\"    {}: {}\".format(key, value))"
   ]
  },
  {
   "cell_type": "code",
   "execution_count": 19,
   "metadata": {},
   "outputs": [
    {
     "data": {
      "text/html": [
       "<div>\n",
       "<style scoped>\n",
       "    .dataframe tbody tr th:only-of-type {\n",
       "        vertical-align: middle;\n",
       "    }\n",
       "\n",
       "    .dataframe tbody tr th {\n",
       "        vertical-align: top;\n",
       "    }\n",
       "\n",
       "    .dataframe thead th {\n",
       "        text-align: right;\n",
       "    }\n",
       "</style>\n",
       "<table border=\"1\" class=\"dataframe\">\n",
       "  <thead>\n",
       "    <tr style=\"text-align: right;\">\n",
       "      <th></th>\n",
       "      <th>number</th>\n",
       "      <th>value</th>\n",
       "      <th>datetime_start</th>\n",
       "      <th>datetime_complete</th>\n",
       "      <th>duration</th>\n",
       "      <th>params_d_token</th>\n",
       "      <th>params_dropout_att</th>\n",
       "      <th>params_dropout_ffn</th>\n",
       "      <th>params_n_tranformer</th>\n",
       "      <th>system_attrs_grid_id</th>\n",
       "      <th>system_attrs_search_space</th>\n",
       "      <th>state</th>\n",
       "    </tr>\n",
       "  </thead>\n",
       "  <tbody>\n",
       "    <tr>\n",
       "      <th>79</th>\n",
       "      <td>79</td>\n",
       "      <td>0.004963</td>\n",
       "      <td>2022-08-12 23:44:08.309107</td>\n",
       "      <td>2022-08-12 23:57:42.739256</td>\n",
       "      <td>0 days 00:13:34.430149</td>\n",
       "      <td>192</td>\n",
       "      <td>0.1</td>\n",
       "      <td>0.2</td>\n",
       "      <td>3</td>\n",
       "      <td>34</td>\n",
       "      <td>{'d_token': [128, 192, 256], 'dropout_att': [0...</td>\n",
       "      <td>COMPLETE</td>\n",
       "    </tr>\n",
       "    <tr>\n",
       "      <th>29</th>\n",
       "      <td>29</td>\n",
       "      <td>0.005233</td>\n",
       "      <td>2022-08-12 18:38:26.578598</td>\n",
       "      <td>2022-08-12 18:51:53.396434</td>\n",
       "      <td>0 days 00:13:26.817836</td>\n",
       "      <td>256</td>\n",
       "      <td>0.1</td>\n",
       "      <td>0.0</td>\n",
       "      <td>3</td>\n",
       "      <td>55</td>\n",
       "      <td>{'d_token': [128, 192, 256], 'dropout_att': [0...</td>\n",
       "      <td>COMPLETE</td>\n",
       "    </tr>\n",
       "    <tr>\n",
       "      <th>15</th>\n",
       "      <td>15</td>\n",
       "      <td>0.005263</td>\n",
       "      <td>2022-08-12 16:51:57.950189</td>\n",
       "      <td>2022-08-12 17:05:45.247620</td>\n",
       "      <td>0 days 00:13:47.297431</td>\n",
       "      <td>256</td>\n",
       "      <td>0.1</td>\n",
       "      <td>0.2</td>\n",
       "      <td>3</td>\n",
       "      <td>61</td>\n",
       "      <td>{'d_token': [128, 192, 256], 'dropout_att': [0...</td>\n",
       "      <td>COMPLETE</td>\n",
       "    </tr>\n",
       "    <tr>\n",
       "      <th>45</th>\n",
       "      <td>45</td>\n",
       "      <td>0.005269</td>\n",
       "      <td>2022-08-12 20:15:45.398867</td>\n",
       "      <td>2022-08-12 20:21:26.434400</td>\n",
       "      <td>0 days 00:05:41.035533</td>\n",
       "      <td>192</td>\n",
       "      <td>0.3</td>\n",
       "      <td>0.1</td>\n",
       "      <td>4</td>\n",
       "      <td>50</td>\n",
       "      <td>{'d_token': [128, 192, 256], 'dropout_att': [0...</td>\n",
       "      <td>PRUNED</td>\n",
       "    </tr>\n",
       "    <tr>\n",
       "      <th>55</th>\n",
       "      <td>55</td>\n",
       "      <td>0.005274</td>\n",
       "      <td>2022-08-12 21:01:07.979324</td>\n",
       "      <td>2022-08-12 21:06:49.175124</td>\n",
       "      <td>0 days 00:05:41.195800</td>\n",
       "      <td>256</td>\n",
       "      <td>0.2</td>\n",
       "      <td>0.1</td>\n",
       "      <td>4</td>\n",
       "      <td>68</td>\n",
       "      <td>{'d_token': [128, 192, 256], 'dropout_att': [0...</td>\n",
       "      <td>PRUNED</td>\n",
       "    </tr>\n",
       "    <tr>\n",
       "      <th>...</th>\n",
       "      <td>...</td>\n",
       "      <td>...</td>\n",
       "      <td>...</td>\n",
       "      <td>...</td>\n",
       "      <td>...</td>\n",
       "      <td>...</td>\n",
       "      <td>...</td>\n",
       "      <td>...</td>\n",
       "      <td>...</td>\n",
       "      <td>...</td>\n",
       "      <td>...</td>\n",
       "      <td>...</td>\n",
       "    </tr>\n",
       "    <tr>\n",
       "      <th>17</th>\n",
       "      <td>17</td>\n",
       "      <td>0.006372</td>\n",
       "      <td>2022-08-12 17:15:55.628529</td>\n",
       "      <td>2022-08-12 17:20:04.412154</td>\n",
       "      <td>0 days 00:04:08.783625</td>\n",
       "      <td>128</td>\n",
       "      <td>0.2</td>\n",
       "      <td>0.0</td>\n",
       "      <td>3</td>\n",
       "      <td>10</td>\n",
       "      <td>{'d_token': [128, 192, 256], 'dropout_att': [0...</td>\n",
       "      <td>PRUNED</td>\n",
       "    </tr>\n",
       "    <tr>\n",
       "      <th>25</th>\n",
       "      <td>25</td>\n",
       "      <td>0.006440</td>\n",
       "      <td>2022-08-12 18:08:35.146305</td>\n",
       "      <td>2022-08-12 18:14:12.712362</td>\n",
       "      <td>0 days 00:05:37.566057</td>\n",
       "      <td>192</td>\n",
       "      <td>0.3</td>\n",
       "      <td>0.0</td>\n",
       "      <td>4</td>\n",
       "      <td>47</td>\n",
       "      <td>{'d_token': [128, 192, 256], 'dropout_att': [0...</td>\n",
       "      <td>PRUNED</td>\n",
       "    </tr>\n",
       "    <tr>\n",
       "      <th>41</th>\n",
       "      <td>41</td>\n",
       "      <td>0.006554</td>\n",
       "      <td>2022-08-12 19:46:37.710560</td>\n",
       "      <td>2022-08-12 19:52:15.032020</td>\n",
       "      <td>0 days 00:05:37.321460</td>\n",
       "      <td>256</td>\n",
       "      <td>0.3</td>\n",
       "      <td>0.0</td>\n",
       "      <td>4</td>\n",
       "      <td>74</td>\n",
       "      <td>{'d_token': [128, 192, 256], 'dropout_att': [0...</td>\n",
       "      <td>PRUNED</td>\n",
       "    </tr>\n",
       "    <tr>\n",
       "      <th>63</th>\n",
       "      <td>63</td>\n",
       "      <td>0.006782</td>\n",
       "      <td>2022-08-12 22:09:32.796011</td>\n",
       "      <td>2022-08-12 22:14:17.736469</td>\n",
       "      <td>0 days 00:04:44.940458</td>\n",
       "      <td>256</td>\n",
       "      <td>0.3</td>\n",
       "      <td>0.0</td>\n",
       "      <td>3</td>\n",
       "      <td>73</td>\n",
       "      <td>{'d_token': [128, 192, 256], 'dropout_att': [0...</td>\n",
       "      <td>PRUNED</td>\n",
       "    </tr>\n",
       "    <tr>\n",
       "      <th>50</th>\n",
       "      <td>50</td>\n",
       "      <td>0.007609</td>\n",
       "      <td>2022-08-12 20:41:06.604124</td>\n",
       "      <td>2022-08-12 20:44:38.545474</td>\n",
       "      <td>0 days 00:03:31.941350</td>\n",
       "      <td>256</td>\n",
       "      <td>0.1</td>\n",
       "      <td>0.0</td>\n",
       "      <td>2</td>\n",
       "      <td>54</td>\n",
       "      <td>{'d_token': [128, 192, 256], 'dropout_att': [0...</td>\n",
       "      <td>PRUNED</td>\n",
       "    </tr>\n",
       "  </tbody>\n",
       "</table>\n",
       "<p>81 rows × 12 columns</p>\n",
       "</div>"
      ],
      "text/plain": [
       "    number     value             datetime_start          datetime_complete  \\\n",
       "79      79  0.004963 2022-08-12 23:44:08.309107 2022-08-12 23:57:42.739256   \n",
       "29      29  0.005233 2022-08-12 18:38:26.578598 2022-08-12 18:51:53.396434   \n",
       "15      15  0.005263 2022-08-12 16:51:57.950189 2022-08-12 17:05:45.247620   \n",
       "45      45  0.005269 2022-08-12 20:15:45.398867 2022-08-12 20:21:26.434400   \n",
       "55      55  0.005274 2022-08-12 21:01:07.979324 2022-08-12 21:06:49.175124   \n",
       "..     ...       ...                        ...                        ...   \n",
       "17      17  0.006372 2022-08-12 17:15:55.628529 2022-08-12 17:20:04.412154   \n",
       "25      25  0.006440 2022-08-12 18:08:35.146305 2022-08-12 18:14:12.712362   \n",
       "41      41  0.006554 2022-08-12 19:46:37.710560 2022-08-12 19:52:15.032020   \n",
       "63      63  0.006782 2022-08-12 22:09:32.796011 2022-08-12 22:14:17.736469   \n",
       "50      50  0.007609 2022-08-12 20:41:06.604124 2022-08-12 20:44:38.545474   \n",
       "\n",
       "                 duration  params_d_token  params_dropout_att  \\\n",
       "79 0 days 00:13:34.430149             192                 0.1   \n",
       "29 0 days 00:13:26.817836             256                 0.1   \n",
       "15 0 days 00:13:47.297431             256                 0.1   \n",
       "45 0 days 00:05:41.035533             192                 0.3   \n",
       "55 0 days 00:05:41.195800             256                 0.2   \n",
       "..                    ...             ...                 ...   \n",
       "17 0 days 00:04:08.783625             128                 0.2   \n",
       "25 0 days 00:05:37.566057             192                 0.3   \n",
       "41 0 days 00:05:37.321460             256                 0.3   \n",
       "63 0 days 00:04:44.940458             256                 0.3   \n",
       "50 0 days 00:03:31.941350             256                 0.1   \n",
       "\n",
       "    params_dropout_ffn  params_n_tranformer  system_attrs_grid_id  \\\n",
       "79                 0.2                    3                    34   \n",
       "29                 0.0                    3                    55   \n",
       "15                 0.2                    3                    61   \n",
       "45                 0.1                    4                    50   \n",
       "55                 0.1                    4                    68   \n",
       "..                 ...                  ...                   ...   \n",
       "17                 0.0                    3                    10   \n",
       "25                 0.0                    4                    47   \n",
       "41                 0.0                    4                    74   \n",
       "63                 0.0                    3                    73   \n",
       "50                 0.0                    2                    54   \n",
       "\n",
       "                            system_attrs_search_space     state  \n",
       "79  {'d_token': [128, 192, 256], 'dropout_att': [0...  COMPLETE  \n",
       "29  {'d_token': [128, 192, 256], 'dropout_att': [0...  COMPLETE  \n",
       "15  {'d_token': [128, 192, 256], 'dropout_att': [0...  COMPLETE  \n",
       "45  {'d_token': [128, 192, 256], 'dropout_att': [0...    PRUNED  \n",
       "55  {'d_token': [128, 192, 256], 'dropout_att': [0...    PRUNED  \n",
       "..                                                ...       ...  \n",
       "17  {'d_token': [128, 192, 256], 'dropout_att': [0...    PRUNED  \n",
       "25  {'d_token': [128, 192, 256], 'dropout_att': [0...    PRUNED  \n",
       "41  {'d_token': [128, 192, 256], 'dropout_att': [0...    PRUNED  \n",
       "63  {'d_token': [128, 192, 256], 'dropout_att': [0...    PRUNED  \n",
       "50  {'d_token': [128, 192, 256], 'dropout_att': [0...    PRUNED  \n",
       "\n",
       "[81 rows x 12 columns]"
      ]
     },
     "execution_count": 19,
     "metadata": {},
     "output_type": "execute_result"
    }
   ],
   "source": [
    "df = study.trials_dataframe()\n",
    "df.sort_values(by=['value'])"
   ]
  },
  {
   "cell_type": "code",
   "execution_count": 20,
   "metadata": {},
   "outputs": [
    {
     "data": {
      "text/plain": [
       "FrozenTrial(number=79, values=[0.004963402170687914], datetime_start=datetime.datetime(2022, 8, 12, 23, 44, 8, 309107), datetime_complete=datetime.datetime(2022, 8, 12, 23, 57, 42, 739256), params={'d_token': 192, 'n_tranformer': 3, 'dropout_att': 0.1, 'dropout_ffn': 0.2}, distributions={'d_token': IntUniformDistribution(high=512, low=64, step=8), 'n_tranformer': IntUniformDistribution(high=4, low=1, step=1), 'dropout_att': UniformDistribution(high=0.5, low=0.0), 'dropout_ffn': UniformDistribution(high=0.5, low=0.0)}, user_attrs={}, system_attrs={'search_space': OrderedDict([('d_token', [128, 192, 256]), ('dropout_att', [0.1, 0.2, 0.3]), ('dropout_ffn', [0.0, 0.1, 0.2]), ('n_tranformer', [2, 3, 4])]), 'grid_id': 34}, intermediate_values={0: 0.004573063924908638, 1: 0.004935392644256353, 2: 0.005381750408560038}, trial_id=79, state=TrialState.COMPLETE, value=None)"
      ]
     },
     "execution_count": 20,
     "metadata": {},
     "output_type": "execute_result"
    }
   ],
   "source": [
    "study.best_trial"
   ]
  },
  {
   "cell_type": "code",
   "execution_count": 21,
   "metadata": {},
   "outputs": [],
   "source": [
    "# Recover the best model\n",
    "model = define_model(study.best_trial)"
   ]
  },
  {
   "cell_type": "raw",
   "metadata": {},
   "source": []
  }
 ],
 "metadata": {
  "kernelspec": {
   "display_name": "Python 3",
   "language": "python",
   "name": "python3"
  },
  "language_info": {
   "codemirror_mode": {
    "name": "ipython",
    "version": 3
   },
   "file_extension": ".py",
   "mimetype": "text/x-python",
   "name": "python",
   "nbconvert_exporter": "python",
   "pygments_lexer": "ipython3",
   "version": "3.7.6"
  }
 },
 "nbformat": 4,
 "nbformat_minor": 4
}
